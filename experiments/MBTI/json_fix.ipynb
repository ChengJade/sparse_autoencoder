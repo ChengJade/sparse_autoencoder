{
 "cells": [
  {
   "cell_type": "code",
   "execution_count": 1,
   "metadata": {},
   "outputs": [
    {
     "name": "stdout",
     "output_type": "stream",
     "text": [
      "Backup created: output/2024-07-13/activations_fi_10k.json.bak\n",
      "Fixed JSON content written to: output/2024-07-13/activations_fi_10k.json\n"
     ]
    }
   ],
   "source": [
    "import re\n",
    "import shutil\n",
    "import os\n",
    "\n",
    "def backup_file(filename):\n",
    "    backup_filename = filename + '.bak'\n",
    "    shutil.copy2(filename, backup_filename)\n",
    "    print(f\"Backup created: {backup_filename}\")\n",
    "\n",
    "def fix_json_format(filename):\n",
    "    # 创建备份\n",
    "    backup_file(filename)\n",
    "    \n",
    "    with open(filename, \"r\") as file:\n",
    "        content = file.read()\n",
    "\n",
    "    # 修复属性名称不在双引号中的问题\n",
    "    fixed_content = re.sub(r'(\\s*)(\\w+)(\\s*:\\s*)', r'\\1\"\\2\"\\3', content)\n",
    "\n",
    "    with open(filename, \"w\") as file:\n",
    "        file.write(fixed_content)\n",
    "    print(f\"Fixed JSON content written to: {filename}\")\n",
    "\n",
    "fix_json_format('output/2024-07-13/activations_fi_10k.json')"
   ]
  },
  {
   "cell_type": "code",
   "execution_count": null,
   "metadata": {},
   "outputs": [],
   "source": [
    "import json\n",
    "import os\n",
    "\n",
    "def update_json_file(filename, new_data):\n",
    "    try:\n",
    "        with open(filename, \"r\") as file:\n",
    "            data = json.load(file)\n",
    "    except FileNotFoundError:\n",
    "        data = {}\n",
    "    except json.JSONDecodeError:\n",
    "        print(\"JSONDecodeError: The file contains invalid JSON.\")\n",
    "        return  # 如果文件格式错误，退出函数\n",
    "\n",
    "    data.update(new_data)\n",
    "\n",
    "    with open(filename, \"w\") as file:\n",
    "        json.dump(data, file, indent=4)\n",
    "    print(f\"Data successfully updated in: {filename}\")\n",
    "\n",
    "# 使用示例\n",
    "update_json_file('output/2024-07-13/activations_fi_10k.json', activations_dict)"
   ]
  }
 ],
 "metadata": {
  "kernelspec": {
   "display_name": "base",
   "language": "python",
   "name": "python3"
  },
  "language_info": {
   "codemirror_mode": {
    "name": "ipython",
    "version": 3
   },
   "file_extension": ".py",
   "mimetype": "text/x-python",
   "name": "python",
   "nbconvert_exporter": "python",
   "pygments_lexer": "ipython3",
   "version": "3.10.8"
  }
 },
 "nbformat": 4,
 "nbformat_minor": 2
}
