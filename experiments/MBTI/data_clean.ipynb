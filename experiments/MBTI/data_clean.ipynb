{
 "cells": [
  {
   "cell_type": "code",
   "execution_count": 1,
   "id": "75607aeb3b896acf",
   "metadata": {
    "jupyter": {
     "is_executing": true
    }
   },
   "outputs": [],
   "source": [
    "def clean_post(post):\n",
    "    # Remove URLs\n",
    "    post = re.sub(r'http\\S+|www\\S+|https\\S+', '', post, flags=re.MULTILINE)\n",
    "    # Split posts on '|||'\n",
    "    post_segments = post.split('|||')\n",
    "    # Remove special characters and extra whitespace\n",
    "    cleaned_segments = [re.sub(r'[^A-Za-z0-9\\s]', '', segment).strip() for segment in post_segments]\n",
    "    return cleaned_segments"
   ]
  },
  {
   "cell_type": "code",
   "execution_count": 3,
   "id": "initial_id",
   "metadata": {
    "ExecuteTime": {
     "end_time": "2024-07-13T02:30:54.255147Z",
     "start_time": "2024-07-13T02:30:51.649314Z"
    }
   },
   "outputs": [],
   "source": [
    "import pandas as pd\n",
    "import re\n",
    "\n",
    "# Load the dataset\n",
    "file_path = 'dataset/mbti_1.csv' \n",
    "\n",
    "# Attempt to read the file with a different encoding\n",
    "data = pd.read_csv(file_path, encoding='latin1')\n",
    "\n",
    "# Apply the cleaning function to each post\n",
    "data['cleaned_posts'] = data['posts'].apply(clean_post)\n",
    "\n",
    "cleaned_data = data.explode('cleaned_posts')[['cleaned_posts']].reset_index(drop=True)"
   ]
  },
  {
   "cell_type": "code",
   "execution_count": 4,
   "id": "5d4f32a9c2e03f39",
   "metadata": {
    "ExecuteTime": {
     "end_time": "2024-07-13T02:30:54.936234Z",
     "start_time": "2024-07-13T02:30:54.258149Z"
    }
   },
   "outputs": [],
   "source": [
    "# Filter out rows where the cleaned_posts have fewer than 15 words\n",
    "cleaned_data['word_count'] = cleaned_data['cleaned_posts'].apply(lambda x: len(x.split()))\n",
    "filtered_data = cleaned_data[cleaned_data['word_count'] >= 15]\n",
    "\n",
    "# Drop the word_count column as it is no longer needed\n",
    "filtered_data = filtered_data.drop(columns=['word_count'])"
   ]
  },
  {
   "cell_type": "code",
   "execution_count": 5,
   "id": "74c8d739",
   "metadata": {},
   "outputs": [],
   "source": [
    "# 添加ID列，从1开始\n",
    "filtered_data['id'] = range(1, len(filtered_data) + 1)\n",
    "\n",
    "# 重排列的顺序，将ID列放到第一列\n",
    "filtered_data = filtered_data[['id', 'cleaned_posts']]\n",
    "\n",
    "# 显示前几行结果\n",
    "print(filtered_data.head())"
   ]
  },
  {
   "cell_type": "code",
   "execution_count": 6,
   "id": "3e338859ad92e773",
   "metadata": {
    "ExecuteTime": {
     "end_time": "2024-07-13T02:31:00.525810Z",
     "start_time": "2024-07-13T02:31:00.509706Z"
    }
   },
   "outputs": [],
   "source": [
    "num_rows = filtered_data.shape[0]\n",
    "num_rows"
   ]
  },
  {
   "cell_type": "code",
   "execution_count": 7,
   "id": "1d0db0b903f6d8a5",
   "metadata": {
    "ExecuteTime": {
     "end_time": "2024-07-13T02:17:23.632461Z",
     "start_time": "2024-07-13T02:17:23.614214Z"
    }
   },
   "outputs": [],
   "source": [
    "# Save the cleaned data to a new CSV file\n",
    "filtered_data.to_csv('dataset/cleaned_mbti.csv', index=False)"
   ]
  }
 ],
 "metadata": {
  "kernelspec": {
   "display_name": "Python 3",
   "language": "python",
   "name": "python3"
  },
  "language_info": {
   "codemirror_mode": {
    "name": "ipython",
    "version": 3
   },
   "file_extension": ".py",
   "mimetype": "text/x-python",
   "name": "python",
   "nbconvert_exporter": "python",
   "pygments_lexer": "ipython3",
   "version": "3.10.0"
  }
 },
 "nbformat": 4,
 "nbformat_minor": 5
}
