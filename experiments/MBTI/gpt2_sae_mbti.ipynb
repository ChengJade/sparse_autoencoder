{
 "cells": [
  {
   "cell_type": "code",
   "id": "3a264bdc49ea2966",
   "metadata": {
    "jupyter": {
     "is_executing": true
    }
   },
   "source": [
    "# 设置环境变量\n",
    "import os\n",
    "os.environ[\"HF_ENDPOINT\"] = \"https://hf-mirror.com\"\n",
    "# 导入库\n",
    "import torch\n",
    "import blobfile as bf\n",
    "import transformer_lens\n",
    "import sparse_autoencoder\n",
    "from experiments.MBTI.utils import extract_activations, update_json_file, count_activations"
   ],
   "outputs": [],
   "execution_count": null
  },
  {
   "cell_type": "code",
   "id": "2ae2db09",
   "metadata": {
    "jupyter": {
     "is_executing": true
    }
   },
   "source": [
    "# 加载模型\n",
    "def load_model(model_name, center_writing_weights=False):\n",
    "    model = transformer_lens.HookedTransformer.from_pretrained(model_name, center_writing_weights=center_writing_weights)\n",
    "    device = next(model.parameters()).device\n",
    "    return model, device\n",
    "\n",
    "# 处理输入\n",
    "def process_input(model, prompt):\n",
    "    tokens_id = model.to_tokens(prompt)  # (1, n_tokens)\n",
    "    tokens_str = model.to_str_tokens(prompt)\n",
    "    with torch.no_grad():\n",
    "        logits, activation_cache = model.run_with_cache(tokens_id, remove_batch_dim=True)\n",
    "    return tokens_id, tokens_str, activation_cache\n",
    "\n",
    "# 提取激活\n",
    "def get_activation(activation_cache, layer_index=6, location=\"resid_post_mlp\"):\n",
    "    transformer_lens_loc = {\n",
    "        \"mlp_post_act\": f\"blocks.{layer_index}.mlp.hook_post\",\n",
    "        \"resid_delta_attn\": f\"blocks.{layer_index}.hook_attn_out\",\n",
    "        \"resid_post_attn\": f\"blocks.{layer_index}.hook_resid_mid\",\n",
    "        \"resid_delta_mlp\": f\"blocks.{layer_index}.hook_mlp_out\",\n",
    "        \"resid_post_mlp\": f\"blocks.{layer_index}.hook_resid_post\",\n",
    "    }[location]\n",
    "    return activation_cache[transformer_lens_loc]\n",
    "\n",
    "# 加载自编码器\n",
    "def load_autoencoder(location, layer_index, device):\n",
    "    with bf.BlobFile(sparse_autoencoder.paths.v5_32k(location, layer_index), mode=\"rb\") as f:\n",
    "        state_dict = torch.load(f)\n",
    "        autoencoder = sparse_autoencoder.Autoencoder.from_state_dict(state_dict)\n",
    "        autoencoder.to(device)\n",
    "    return autoencoder\n",
    "\n",
    "# 编码和解码激活张量\n",
    "def encode_decode(autoencoder, input_tensor):\n",
    "    with torch.no_grad():\n",
    "        latent_activations, info = autoencoder.encode(input_tensor)\n",
    "        reconstructed_activations = autoencoder.decode(latent_activations, info)\n",
    "    return latent_activations, reconstructed_activations\n",
    "\n",
    "# 计算误差并打印结果\n",
    "def calculate_normalized_mse(input_tensor, reconstructed_activations):\n",
    "    normalized_mse = (reconstructed_activations - input_tensor).pow(2).sum(dim=1) / (input_tensor).pow(2).sum(dim=1)\n",
    "    return normalized_mse"
   ],
   "outputs": [],
   "execution_count": null
  },
  {
   "cell_type": "code",
   "execution_count": 7,
   "id": "d048903c",
   "metadata": {},
   "outputs": [
    {
     "name": "stdout",
     "output_type": "stream",
     "text": [
      "Loaded pretrained model gpt2 into HookedTransformer\n"
     ]
    }
   ],
   "source": [
    "model, device = load_model(\"gpt2\")\n",
    "layer_index = 6\n",
    "location = \"resid_post_mlp\"\n",
    "autoencoder = load_autoencoder(location, layer_index, device)"
   ]
  },
  {
   "cell_type": "code",
   "execution_count": 8,
   "id": "02b24c51",
   "metadata": {},
   "outputs": [],
   "source": [
    "prompt = \"This is an example of a prompt that\"\n",
    "tokens_id, tokens_str, activation_cache = process_input(model, prompt)\n",
    "input_tensor = get_activation(activation_cache, layer_index, location)\n",
    "latent_activations, reconstructed_activations = encode_decode(autoencoder, input_tensor)"
   ]
  },
  {
   "cell_type": "code",
   "execution_count": 9,
   "id": "c2b2f8aa",
   "metadata": {},
   "outputs": [
    {
     "name": "stdout",
     "output_type": "stream",
     "text": [
      "torch.Size([9, 32768])\n",
      "torch.Size([9, 768])\n",
      "torch.Size([9, 768])\n",
      "Non-zero activation count: 288\n"
     ]
    }
   ],
   "source": [
    "print(latent_activations.shape)\n",
    "print(input_tensor.shape)\n",
    "print(reconstructed_activations.shape)\n",
    "non_zero_count = (latent_activations != 0).sum().item()\n",
    "print(\"Non-zero activation count:\", non_zero_count)"
   ]
  },
  {
   "cell_type": "code",
   "execution_count": 10,
   "id": "13e7c424",
   "metadata": {},
   "outputs": [],
   "source": [
    "activations_dict = extract_activations(prompt, tokens_str, latent_activations)"
   ]
  },
  {
   "cell_type": "code",
   "execution_count": 11,
   "id": "6543ff98",
   "metadata": {},
   "outputs": [],
   "source": [
    "update_json_file(\"activation.json\", activations_dict)"
   ]
  },
  {
   "cell_type": "code",
   "execution_count": 13,
   "id": "524a2327",
   "metadata": {},
   "outputs": [
    {
     "name": "stdout",
     "output_type": "stream",
     "text": [
      "Total number of activations: 288\n"
     ]
    }
   ],
   "source": [
    "filename = \"activation.json\"\n",
    "activation_count = count_activations(filename)\n",
    "print(f\"Total number of activations: {activation_count}\")"
   ]
  }
 ],
 "metadata": {
  "kernelspec": {
   "display_name": "Python 3",
   "language": "python",
   "name": "python3"
  },
  "language_info": {
   "codemirror_mode": {
    "name": "ipython",
    "version": 3
   },
   "file_extension": ".py",
   "mimetype": "text/x-python",
   "name": "python",
   "nbconvert_exporter": "python",
   "pygments_lexer": "ipython3",
   "version": "3.10.8"
  }
 },
 "nbformat": 4,
 "nbformat_minor": 5
}
