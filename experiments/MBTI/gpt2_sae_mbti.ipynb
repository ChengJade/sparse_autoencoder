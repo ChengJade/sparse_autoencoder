{
 "cells": [
  {
   "cell_type": "code",
   "execution_count": null,
   "id": "3a264bdc49ea2966",
   "metadata": {
    "ExecuteTime": {
     "end_time": "2024-07-18T16:05:45.694443Z",
     "start_time": "2024-07-18T16:05:40.101359Z"
    }
   },
   "source": [
    "# 设置环境变量\n",
    "import os\n",
    "# os.environ[\"HF_ENDPOINT\"] = \"https://hf-mirror.com\"\n",
    "# 导入库\n",
    "import torch\n",
    "import blobfile as bf\n",
    "import transformer_lens\n",
    "import sparse_autoencoder\n",
    "from experiments.utils import extract_activations, update_json_file\n",
    "import pandas as pd\n",
    "from datetime import datetime"
   ],
   "outputs": []
  },
  {
   "cell_type": "code",
   "id": "2ae2db09",
   "metadata": {
    "ExecuteTime": {
     "end_time": "2024-07-18T19:13:32.947826Z",
     "start_time": "2024-07-18T19:13:32.714839Z"
    }
   },
   "source": [
    "import numpy as np\n",
    "import re\n",
    "# 加载模型\n",
    "def load_model(model_name, center_writing_weights=False):\n",
    "    model = transformer_lens.HookedTransformer.from_pretrained(model_name, center_writing_weights=center_writing_weights)\n",
    "    device = next(model.parameters()).device\n",
    "    return model, device\n",
    "\n",
    "# 处理输入\n",
    "def process_input(model, prompt):\n",
    "    tokens_id = model.to_tokens(prompt)  # (1, n_tokens)\n",
    "    tokens_str = model.to_str_tokens(prompt)\n",
    "    with torch.no_grad():\n",
    "        logits, activation_cache = model.run_with_cache(tokens_id, remove_batch_dim=True)\n",
    "    return tokens_id, tokens_str, activation_cache\n",
    "\n",
    "# 提取激活\n",
    "def get_activation(activation_cache, layer_index=6, location=\"resid_post_mlp\"):\n",
    "    transformer_lens_loc = {\n",
    "        \"mlp_post_act\": f\"blocks.{layer_index}.mlp.hook_post\",\n",
    "        \"resid_delta_attn\": f\"blocks.{layer_index}.hook_attn_out\",\n",
    "        \"resid_post_attn\": f\"blocks.{layer_index}.hook_resid_mid\",\n",
    "        \"resid_delta_mlp\": f\"blocks.{layer_index}.hook_mlp_out\",\n",
    "        \"resid_post_mlp\": f\"blocks.{layer_index}.hook_resid_post\",\n",
    "    }[location]\n",
    "    return activation_cache[transformer_lens_loc]\n",
    "\n",
    "# 加载自编码器\n",
    "def load_autoencoder(location, layer_index, device):\n",
    "    with bf.BlobFile(sparse_autoencoder.paths.v5_32k(location, layer_index), mode=\"rb\") as f:\n",
    "        state_dict = torch.load(f)\n",
    "        autoencoder = sparse_autoencoder.Autoencoder.from_state_dict(state_dict)\n",
    "        autoencoder.to(device)\n",
    "    return autoencoder\n",
    "\n",
    "# 编码和解码激活张量\n",
    "def encode_decode(autoencoder, input_tensor):\n",
    "    with torch.no_grad():\n",
    "        latent_activations, info = autoencoder.encode(input_tensor)\n",
    "        reconstructed_activations = autoencoder.decode(latent_activations, info)\n",
    "    return latent_activations, reconstructed_activations\n",
    "\n",
    "# 计算误差并打印结果\n",
    "def calculate_normalized_mse(input_tensor, reconstructed_activations):\n",
    "    normalized_mse = (reconstructed_activations - input_tensor).pow(2).sum(dim=1) / (input_tensor).pow(2).sum(dim=1)\n",
    "    return normalized_mse\n",
    "\n",
    "def update_numpy_file(filename, new_activations):\n",
    "    # 尝试读取现有的 NumPy 文件\n",
    "    try:\n",
    "        data = np.load(filename, allow_pickle=True).item()\n",
    "        df = pd.DataFrame(data)\n",
    "    except (FileNotFoundError, OSError):\n",
    "        df = pd.DataFrame(columns=['Feature', 'Index', 'SubIndex', 'Value'])\n",
    "    # 将新的激活值转换为数据帧\n",
    "    new_data = {\n",
    "        'Feature': [],\n",
    "        'Index': [],\n",
    "        'SubIndex': [],\n",
    "        'Value': []\n",
    "    }\n",
    "    for new_feature_key, new_feature_data in new_activations.items():\n",
    "        for new_prompt_key, new_prompt_data in new_feature_data.items():\n",
    "            for sub_index, value in new_prompt_data.items():\n",
    "                new_data['Feature'].append(new_feature_key)\n",
    "                new_data['Index'].append(int(new_prompt_key))\n",
    "                new_data['SubIndex'].append(sub_index)\n",
    "                new_data['Value'].append(value)\n",
    "\n",
    "    new_df = pd.DataFrame(new_data)\n",
    "    # 删除空值或全为NA值的列\n",
    "    new_df.dropna(axis=1, how='all', inplace=True)\n",
    "    # 合并新的数据帧到现有的数据帧中\n",
    "    updated_df = pd.concat([df, new_df], ignore_index=True)\n",
    "    # 删除重复项，保留最新值\n",
    "    updated_df.drop_duplicates(subset=['Feature', 'Index', 'SubIndex'], keep='last', inplace=True)\n",
    "    # 保存更新后的数据帧到 NumPy 文件\n",
    "    data_dict = updated_df.to_dict('list')\n",
    "    np.save(filename, data_dict)\n",
    "    print(f\"File {filename} has been updated and saved.\")\n",
    "\n",
    "def extract_feature_number(feature_str):\n",
    "    # 提取 feature 字符串中的数字部分\n",
    "    match = re.search(r'\\d+', feature_str)\n",
    "    return int(match.group()) if match else float('inf')\n",
    "\n",
    "def sort_dataframe(df):\n",
    "    # 提取Feature列中的数字部分\n",
    "    df['FeatureNumber'] = df['Feature'].apply(extract_feature_number)\n",
    "\n",
    "    # 按 FeatureNumber 从小到大排序，然后按 Value 从大到小排序\n",
    "    df.sort_values(by=['FeatureNumber', 'Value'], ascending=[True, False], inplace=True)\n",
    "\n",
    "    # 删除临时的 FeatureNumber 列\n",
    "    df.drop(columns=['FeatureNumber'], inplace=True)\n",
    "\n",
    "    return df\n"
   ],
   "execution_count": 2,
   "outputs": []
  },
  {
   "cell_type": "code",
   "execution_count": 4,
   "id": "d048903c",
   "metadata": {
    "ExecuteTime": {
     "end_time": "2024-07-18T16:06:58.245825Z",
     "start_time": "2024-07-18T16:05:54.163976Z"
    }
   },
   "source": [
    "model, device = load_model(\"gpt2\")\n",
    "layer_index = 6\n",
    "location = \"resid_post_mlp\"\n",
    "autoencoder = load_autoencoder(location, layer_index, device)"
   ],
   "outputs": []
  },
  {
   "cell_type": "code",
   "execution_count": 5,
   "id": "89e7dc34",
   "metadata": {
    "ExecuteTime": {
     "end_time": "2024-07-18T16:06:58.944986Z",
     "start_time": "2024-07-18T16:06:58.247825Z"
    }
   },
   "source": [
    "# 加载 CSV 文件\n",
    "csv_file_path = 'dataset/cleaned_mbti.csv'  # 替换为你的 CSV 文件路径\n",
    "df = pd.read_csv(csv_file_path)"
   ],
   "outputs": []
  },
  {
   "cell_type": "code",
   "execution_count": 6,
   "id": "153365d5",
   "metadata": {
    "ExecuteTime": {
     "end_time": "2024-07-18T16:06:58.960141Z",
     "start_time": "2024-07-18T16:06:58.946074Z"
    }
   },
   "source": [
    "today = datetime.today().strftime('%Y-%m-%d')\n",
    "output_folder = f'output/{today}'\n",
    "os.makedirs(output_folder, exist_ok=True)"
   ],
   "outputs": []
  },
  {
   "cell_type": "code",
   "execution_count": 21,
   "id": "e9f4f24e05b3fbe2",
   "metadata": {
    "ExecuteTime": {
     "end_time": "2024-07-18T16:22:41.024589Z",
     "start_time": "2024-07-18T16:21:45.778400Z"
    }
   },
   "source": [
    "activations = []\n",
    "data = df[:50]\n",
    "activations_file_path = \"\"\n",
    "for index, row in data.iterrows():\n",
    "    prompt_id = row['id']\n",
    "    prompt = row['cleaned_posts']\n",
    "    print(prompt)\n",
    "    # 处理输入并获取激活\n",
    "    tokens_id, tokens_str, activation_cache = process_input(model, prompt)\n",
    "    activation = get_activation(activation_cache, layer_index=layer_index)\n",
    "\n",
    "    # 编码和解码激活张量\n",
    "    latent_activations, reconstructed_activations = encode_decode(autoencoder, activation)\n",
    "\n",
    "    print(latent_activations.shape)\n",
    "    print(activation.shape)\n",
    "    print(reconstructed_activations.shape)\n",
    "    non_zero_count = (latent_activations != 0).sum().item()\n",
    "    print(\"Non-zero activation count:\", non_zero_count)\n",
    "\n",
    "    activations_dict = extract_activations(prompt_id, tokens_str, latent_activations)\n",
    "    \n",
    "    activations_file_path = os.path.join(output_folder, 'activations_fi_50.npy')\n",
    "    \n",
    "    update_numpy_file(activations_file_path, activations_dict)"
   ],
   "outputs": []
  },
  {
   "cell_type": "code",
   "execution_count": 24,
   "id": "34d46b1f26cf7b3b",
   "metadata": {
    "ExecuteTime": {
     "end_time": "2024-07-18T16:23:41.388513Z",
     "start_time": "2024-07-18T16:23:41.349436Z"
    }
   },
   "source": [
    "def read_numpy_file(filename):\n",
    "    # 读取 NumPy 文件中的数据\n",
    "    try:\n",
    "        data = np.load(filename, allow_pickle=True).item()\n",
    "        df = pd.DataFrame(data)\n",
    "        print(f\"Data from {filename}:\")\n",
    "        print(df.head(20000))  # 打印前几行数据\n",
    "    except (FileNotFoundError, OSError):\n",
    "        print(f\"File {filename} not found or could not be read.\")\n",
    "\n",
    "# 示例调用\n",
    "read_numpy_file(activations_file_path)"
   ],
   "outputs": []
  },
  {
   "cell_type": "markdown",
   "id": "5f5bba0f",
   "metadata": {},
   "source": [
    "### Experiment1: 1k Prompt"
   ]
  },
  {
   "cell_type": "code",
   "execution_count": 25,
   "id": "4927c699",
   "metadata": {
    "ExecuteTime": {
     "end_time": "2024-07-18T17:02:01.970478Z",
     "start_time": "2024-07-18T16:25:56.660058Z"
    }
   },
   "source": [
    "activations = []\n",
    "data = df[:1000] \n",
    "activations_file_path = \"\"\n",
    "for index, row in data.iterrows():\n",
    "    prompt_id = row['id']\n",
    "    prompt = row['cleaned_posts']\n",
    "    print(prompt)\n",
    "    # 处理输入并获取激活\n",
    "    tokens_id, tokens_str, activation_cache = process_input(model, prompt)\n",
    "    activation = get_activation(activation_cache, layer_index=layer_index)\n",
    "\n",
    "    # 编码和解码激活张量\n",
    "    latent_activations, reconstructed_activations = encode_decode(autoencoder, activation)\n",
    "\n",
    "    print(latent_activations.shape)\n",
    "    print(activation.shape)\n",
    "    print(reconstructed_activations.shape)\n",
    "    non_zero_count = (latent_activations != 0).sum().item()\n",
    "    print(\"Non-zero activation count:\", non_zero_count)\n",
    "    \n",
    "    activations_dict = extract_activations(prompt_id, tokens_str, latent_activations)\n",
    "    \n",
    "    activations_file_path = os.path.join(output_folder, 'activations_fi_1000.npy')\n",
    "\n",
    "    update_numpy_file(activations_file_path, activations_dict)\n"
   ],
   "outputs": []
  },
  {
   "cell_type": "code",
   "execution_count": 27,
   "id": "2d411c1e07a6aa2d",
   "metadata": {
    "ExecuteTime": {
     "end_time": "2024-07-18T17:03:47.864700Z",
     "start_time": "2024-07-18T17:03:47.247524Z"
    }
   },
   "source": [
    "def read_numpy_file(filename):\n",
    "    # 读取 NumPy 文件中的数据\n",
    "    try:\n",
    "        data = np.load(filename, allow_pickle=True).item()\n",
    "        df = pd.DataFrame(data)\n",
    "        print(f\"Data from {filename}:\")\n",
    "        print(df.head(200000))  # 打印前几行数据\n",
    "    except (FileNotFoundError, OSError):\n",
    "        print(f\"File {filename} not found or could not be read.\")\n",
    "\n",
    "# 示例调用\n",
    "read_numpy_file(activations_file_path)"
   ],
   "outputs": []
  },
  {
   "cell_type": "markdown",
   "id": "b12dd8cd",
   "metadata": {},
   "source": [
    "### Experiment2: 1-5k Prompt"
   ]
  },
  {
   "cell_type": "code",
   "execution_count": 5,
   "id": "050b7d00",
   "metadata": {},
   "source": [
    "activations = []\n",
    "data = df[1000:5000] \n",
    "for index, row in data.iterrows():\n",
    "    prompt_id = row['id']\n",
    "    prompt = row['cleaned_posts']\n",
    "    print(prompt)\n",
    "    # 处理输入并获取激活\n",
    "    tokens_id, tokens_str, activation_cache = process_input(model, prompt)\n",
    "    activation = get_activation(activation_cache, layer_index=layer_index)\n",
    "\n",
    "    # 编码和解码激活张量\n",
    "    latent_activations, reconstructed_activations = encode_decode(autoencoder, activation)\n",
    "\n",
    "    print(latent_activations.shape)\n",
    "    print(activation.shape)\n",
    "    print(reconstructed_activations.shape)\n",
    "    non_zero_count = (latent_activations != 0).sum().item()\n",
    "    print(\"Non-zero activation count:\", non_zero_count)\n",
    "    \n",
    "    activations_dict = extract_activations(prompt_id, tokens_str, latent_activations)\n",
    "    \n",
    "    activations_file_path = os.path.join('output\\\\2024-07-13', 'activations_fi_1_5k.json')\n",
    "\n",
    "    update_json_file(activations_file_path, activations_dict)\n"
   ],
   "outputs": []
  },
  {
   "cell_type": "markdown",
   "id": "ab1163a0",
   "metadata": {},
   "source": [
    "### Experiment3: 5k-10k Prompt"
   ]
  },
  {
   "cell_type": "code",
   "execution_count": 1,
   "id": "8c93c7cb",
   "metadata": {
    "ExecuteTime": {
     "end_time": "2024-07-18T18:56:45.315669Z",
     "start_time": "2024-07-18T18:56:44.900380Z"
    }
   },
   "source": [
    "activations = []\n",
    "data = df[5000:10000] \n",
    "for index, row in data.iterrows():\n",
    "    prompt_id = row['id']\n",
    "    prompt = row['cleaned_posts']\n",
    "    print(prompt)\n",
    "    # 处理输入并获取激活\n",
    "    tokens_id, tokens_str, activation_cache = process_input(model, prompt)\n",
    "    activation = get_activation(activation_cache, layer_index=layer_index)\n",
    "\n",
    "    # 编码和解码激活张量\n",
    "    latent_activations, reconstructed_activations = encode_decode(autoencoder, activation)\n",
    "\n",
    "    print(latent_activations.shape)\n",
    "    print(activation.shape)\n",
    "    print(reconstructed_activations.shape)\n",
    "    non_zero_count = (latent_activations != 0).sum().item()\n",
    "    print(\"Non-zero activation count:\", non_zero_count)\n",
    "    \n",
    "    activations_dict = extract_activations(prompt_id, tokens_str, latent_activations)\n",
    "    \n",
    "    activations_file_path = os.path.join('output\\\\2024-07-13', 'activations_fi_5k_10k.json')\n",
    "\n",
    "    update_json_file(activations_file_path, activations_dict)\n"
   ],
   "outputs": []
  },
  {
   "cell_type": "code",
   "execution_count": null,
   "id": "f7cd0ab1a8b69c6d",
   "metadata": {},
   "source": [],
   "outputs": []
  }
 ],
 "metadata": {
  "kernelspec": {
   "display_name": "Python 3",
   "language": "python",
   "name": "python3"
  },
  "language_info": {
   "codemirror_mode": {
    "name": "ipython",
    "version": 3
   },
   "file_extension": ".py",
   "mimetype": "text/x-python",
   "name": "python",
   "nbconvert_exporter": "python",
   "pygments_lexer": "ipython3",
   "version": "3.10.8"
  }
 },
 "nbformat": 4,
 "nbformat_minor": 5
}
